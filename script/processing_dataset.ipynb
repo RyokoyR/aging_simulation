{
 "cells": [
  {
   "cell_type": "code",
   "execution_count": 1,
   "metadata": {},
   "outputs": [],
   "source": [
    "#!/lustre7/home/lustre4/ryoyokosaka/python/.pyenv/shims\n",
    "import sys\n",
    "sys.path.append('/lustre7/home/lustre4/ryoyokosaka/python/')"
   ]
  },
  {
   "cell_type": "code",
   "execution_count": 2,
   "metadata": {},
   "outputs": [],
   "source": [
    "import pandas as pd\n",
    "import numpy as np\n",
    "import glob\n",
    "import re"
   ]
  },
  {
   "cell_type": "code",
   "execution_count": 9,
   "metadata": {},
   "outputs": [
    {
     "data": {
      "text/plain": [
       "['/lustre7/home/lustre4/ryoyokosaka/python/data/GSE41080/GSM1008364_93219_7326_probe.txt',\n",
       " '/lustre7/home/lustre4/ryoyokosaka/python/data/GSE41080/GSM1008385_93252_7342_probe.txt',\n",
       " '/lustre7/home/lustre4/ryoyokosaka/python/data/GSE41080/GSM1008380_93249_7339_probe.txt',\n",
       " '/lustre7/home/lustre4/ryoyokosaka/python/data/GSE41080/GSM1008398_93264_7354_probe.txt',\n",
       " '/lustre7/home/lustre4/ryoyokosaka/python/data/GSE41080/GSM1008368_93223_7330_probe.txt',\n",
       " '/lustre7/home/lustre4/ryoyokosaka/python/data/GSE41080/GSM1008372_93227_7334_probe.txt',\n",
       " '/lustre7/home/lustre4/ryoyokosaka/python/data/GSE41080/GSM1008325_93275_7365_probe.txt',\n",
       " '/lustre7/home/lustre4/ryoyokosaka/python/data/GSE41080/GSM1008316_93180_7287_probe.txt',\n",
       " '/lustre7/home/lustre4/ryoyokosaka/python/data/GSE41080/GSM1008320_93183_7290_probe.txt',\n",
       " '/lustre7/home/lustre4/ryoyokosaka/python/data/GSE41080/GSM1008394_93260_7350_probe.txt',\n",
       " '/lustre7/home/lustre4/ryoyokosaka/python/data/GSE41080/GSM1008334_93193_7300_probe.txt',\n",
       " '/lustre7/home/lustre4/ryoyokosaka/python/data/GSE41080/GSM1008377_93248_7338_probe.txt',\n",
       " '/lustre7/home/lustre4/ryoyokosaka/python/data/GSE41080/GSM1008338_93197_7304_probe.txt',\n",
       " '/lustre7/home/lustre4/ryoyokosaka/python/data/GSE41080/GSM1008401_93267_7357_probe.txt',\n",
       " '/lustre7/home/lustre4/ryoyokosaka/python/data/GSE41080/GSM1008376_93247_7337_probe.txt',\n",
       " '/lustre7/home/lustre4/ryoyokosaka/python/data/GSE41080/GSM1008378_93271_7361_probe.txt',\n",
       " '/lustre7/home/lustre4/ryoyokosaka/python/data/GSE41080/GSM1008313_93177_7284_probe.txt',\n",
       " '/lustre7/home/lustre4/ryoyokosaka/python/data/GSE41080/GSM1008390_93257_7347_probe.txt',\n",
       " '/lustre7/home/lustre4/ryoyokosaka/python/data/GSE41080/GSM1008310_93174_7281_probe.txt',\n",
       " '/lustre7/home/lustre4/ryoyokosaka/python/data/GSE41080/GSM1008318_93182_7289_probe.txt',\n",
       " '/lustre7/home/lustre4/ryoyokosaka/python/data/GSE41080/GSM1008359_93215_7322_probe.txt',\n",
       " '/lustre7/home/lustre4/ryoyokosaka/python/data/GSE41080/GSM1008360_93216_7323_probe.txt',\n",
       " '/lustre7/home/lustre4/ryoyokosaka/python/data/GSE41080/GSM1008400_93266_7356_probe.txt',\n",
       " '/lustre7/home/lustre4/ryoyokosaka/python/data/GSE41080/GSM1008370_93225_7332_probe.txt',\n",
       " '/lustre7/home/lustre4/ryoyokosaka/python/data/GSE41080/GSM1008354_93279_7369_probe.txt',\n",
       " '/lustre7/home/lustre4/ryoyokosaka/python/data/GSE41080/GSM1008322_93185_7292_probe.txt',\n",
       " '/lustre7/home/lustre4/ryoyokosaka/python/data/GSE41080/GSM1008339_93198_7305_probe.txt',\n",
       " '/lustre7/home/lustre4/ryoyokosaka/python/data/GSE41080/GSM1008355_93211_7318_probe.txt',\n",
       " '/lustre7/home/lustre4/ryoyokosaka/python/data/GSE41080/GSM1008395_93261_7351_probe.txt',\n",
       " '/lustre7/home/lustre4/ryoyokosaka/python/data/GSE41080/GSM1008346_93204_7311_probe.txt',\n",
       " '/lustre7/home/lustre4/ryoyokosaka/python/data/GSE41080/GSM1008387_93254_7344_probe.txt',\n",
       " '/lustre7/home/lustre4/ryoyokosaka/python/data/GSE41080/GSM1008328_93189_7296_probe.txt',\n",
       " '/lustre7/home/lustre4/ryoyokosaka/python/data/GSE41080/GSM1008340_93199_7306_probe.txt',\n",
       " '/lustre7/home/lustre4/ryoyokosaka/python/data/GSE41080/GSM1008397_93263_7353_probe.txt',\n",
       " '/lustre7/home/lustre4/ryoyokosaka/python/data/GSE41080/GSM1008323_93186_7293_probe.txt',\n",
       " '/lustre7/home/lustre4/ryoyokosaka/python/data/GSE41080/GSM1008396_93262_7352_probe.txt',\n",
       " '/lustre7/home/lustre4/ryoyokosaka/python/data/GSE41080/GSM1008358_93214_7321_probe.txt',\n",
       " '/lustre7/home/lustre4/ryoyokosaka/python/data/GSE41080/GSM1008373_93228_7335_probe.txt',\n",
       " '/lustre7/home/lustre4/ryoyokosaka/python/data/GSE41080/GSM1008317_93181_7288_probe.txt',\n",
       " '/lustre7/home/lustre4/ryoyokosaka/python/data/GSE41080/GSM1008357_93213_7320_probe.txt',\n",
       " '/lustre7/home/lustre4/ryoyokosaka/python/data/GSE41080/GSM1008314_93178_7285_probe.txt',\n",
       " '/lustre7/home/lustre4/ryoyokosaka/python/data/GSE41080/GSM1008309_93173_7280_probe.txt',\n",
       " '/lustre7/home/lustre4/ryoyokosaka/python/data/GSE41080/GSM1008388_93255_7345_probe.txt',\n",
       " '/lustre7/home/lustre4/ryoyokosaka/python/data/GSE41080/GSM1008393_93259_7349_probe.txt',\n",
       " '/lustre7/home/lustre4/ryoyokosaka/python/data/GSE41080/GSM1008386_93253_7343_probe.txt',\n",
       " '/lustre7/home/lustre4/ryoyokosaka/python/data/GSE41080/GSM1008391_93280_7370_probe.txt',\n",
       " '/lustre7/home/lustre4/ryoyokosaka/python/data/GSE41080/GSM1008381_93273_7363_probe.txt',\n",
       " '/lustre7/home/lustre4/ryoyokosaka/python/data/GSE41080/GSM1008326_93269_7359_probe.txt',\n",
       " '/lustre7/home/lustre4/ryoyokosaka/python/data/GSE41080/GSM1008324_93187_7294_probe.txt',\n",
       " '/lustre7/home/lustre4/ryoyokosaka/python/data/GSE41080/GSM1008319_93274_7364_probe.txt',\n",
       " '/lustre7/home/lustre4/ryoyokosaka/python/data/GSE41080/GSM1008365_93220_7327_probe.txt',\n",
       " '/lustre7/home/lustre4/ryoyokosaka/python/data/GSE41080/GSM1008399_93265_7355_probe.txt',\n",
       " '/lustre7/home/lustre4/ryoyokosaka/python/data/GSE41080/GSM1008341_93277_7367_probe.txt',\n",
       " '/lustre7/home/lustre4/ryoyokosaka/python/data/GSE41080/GSM1008369_93224_7331_probe.txt',\n",
       " '/lustre7/home/lustre4/ryoyokosaka/python/data/GSE41080/GSM1008312_93176_7283_probe.txt',\n",
       " '/lustre7/home/lustre4/ryoyokosaka/python/data/GSE41080/GSM1008371_93226_7333_probe.txt',\n",
       " '/lustre7/home/lustre4/ryoyokosaka/python/data/GSE41080/GSM1008356_93212_7319_probe.txt',\n",
       " '/lustre7/home/lustre4/ryoyokosaka/python/data/GSE41080/GSM1008331_93270_7360_probe.txt',\n",
       " '/lustre7/home/lustre4/ryoyokosaka/python/data/GSE41080/GSM1008366_93221_7328_probe.txt',\n",
       " '/lustre7/home/lustre4/ryoyokosaka/python/data/GSE41080/GSM1008402_93268_7358_probe.txt',\n",
       " '/lustre7/home/lustre4/ryoyokosaka/python/data/GSE41080/GSM1008351_93209_7316_probe.txt',\n",
       " '/lustre7/home/lustre4/ryoyokosaka/python/data/GSE41080/GSM1008367_93222_7329_probe.txt',\n",
       " '/lustre7/home/lustre4/ryoyokosaka/python/data/GSE41080/GSM1008348_93206_7313_probe.txt',\n",
       " '/lustre7/home/lustre4/ryoyokosaka/python/data/GSE41080/GSM1008383_93250_7340_probe.txt',\n",
       " '/lustre7/home/lustre4/ryoyokosaka/python/data/GSE41080/GSM1008362_93272_7362_probe.txt',\n",
       " '/lustre7/home/lustre4/ryoyokosaka/python/data/GSE41080/GSM1008389_93256_7346_probe.txt',\n",
       " '/lustre7/home/lustre4/ryoyokosaka/python/data/GSE41080/GSM1008333_93192_7299_probe.txt',\n",
       " '/lustre7/home/lustre4/ryoyokosaka/python/data/GSE41080/GSM1008374_93229_7336_probe.txt',\n",
       " '/lustre7/home/lustre4/ryoyokosaka/python/data/GSE41080/GSM1008335_93194_7301_probe.txt',\n",
       " '/lustre7/home/lustre4/ryoyokosaka/python/data/GSE41080/GSM1008336_93195_7302_probe.txt',\n",
       " '/lustre7/home/lustre4/ryoyokosaka/python/data/GSE41080/GSM1008345_93203_7310_probe.txt',\n",
       " '/lustre7/home/lustre4/ryoyokosaka/python/data/GSE41080/GSM1008343_93201_7308_probe.txt',\n",
       " '/lustre7/home/lustre4/ryoyokosaka/python/data/GSE41080/GSM1008327_93188_7295_probe.txt',\n",
       " '/lustre7/home/lustre4/ryoyokosaka/python/data/GSE41080/GSM1008352_93210_7317_probe.txt',\n",
       " '/lustre7/home/lustre4/ryoyokosaka/python/data/GSE41080/GSM1008361_93217_7324_probe.txt',\n",
       " '/lustre7/home/lustre4/ryoyokosaka/python/data/GSE41080/GSM1008311_93175_7282_probe.txt',\n",
       " '/lustre7/home/lustre4/ryoyokosaka/python/data/GSE41080/GSM1008344_93202_7309_probe.txt',\n",
       " '/lustre7/home/lustre4/ryoyokosaka/python/data/GSE41080/GSM1008353_93278_7368_probe.txt',\n",
       " '/lustre7/home/lustre4/ryoyokosaka/python/data/GSE41080/GSM1008392_93258_7348_probe.txt',\n",
       " '/lustre7/home/lustre4/ryoyokosaka/python/data/GSE41080/GSM1008363_93218_7325_probe.txt',\n",
       " '/lustre7/home/lustre4/ryoyokosaka/python/data/GSE41080/GSM1008347_93205_7312_probe.txt',\n",
       " '/lustre7/home/lustre4/ryoyokosaka/python/data/GSE41080/GSM1008350_93208_7315_probe.txt',\n",
       " '/lustre7/home/lustre4/ryoyokosaka/python/data/GSE41080/GSM1008342_93200_7307_probe.txt',\n",
       " '/lustre7/home/lustre4/ryoyokosaka/python/data/GSE41080/GSM1008330_93190_7297_probe.txt',\n",
       " '/lustre7/home/lustre4/ryoyokosaka/python/data/GSE41080/GSM1008349_93207_7314_probe.txt',\n",
       " '/lustre7/home/lustre4/ryoyokosaka/python/data/GSE41080/GSM1008384_93251_7341_probe.txt',\n",
       " '/lustre7/home/lustre4/ryoyokosaka/python/data/GSE41080/GSM1008332_93191_7298_probe.txt',\n",
       " '/lustre7/home/lustre4/ryoyokosaka/python/data/GSE41080/GSM1008337_93196_7303_probe.txt',\n",
       " '/lustre7/home/lustre4/ryoyokosaka/python/data/GSE41080/GSM1008315_93179_7286_probe.txt',\n",
       " '/lustre7/home/lustre4/ryoyokosaka/python/data/GSE41080/GSM1008329_93276_7366_probe.txt',\n",
       " '/lustre7/home/lustre4/ryoyokosaka/python/data/GSE41080/GSM1008321_93184_7291_probe.txt']"
      ]
     },
     "execution_count": 9,
     "metadata": {},
     "output_type": "execute_result"
    }
   ],
   "source": [
    "path = glob.glob(\"/lustre7/home/lustre4/ryoyokosaka/python/data/GSE41080/*_probe.txt\")\n",
    "path"
   ]
  },
  {
   "cell_type": "code",
   "execution_count": 10,
   "metadata": {},
   "outputs": [],
   "source": [
    "#かく転写産物が一回ずつ現れるように前処理する。\n",
    "#SYMBOL行で重複のある転写産物名のリストをえる。\n",
    "data_ID_exist = pd.read_table(\"/lustre7/home/lustre4/ryoyokosaka/python/data/GSE41080/GSM1008309_93173_7280_probe.txt\",index_col=\"PROBE_ID\")\n",
    "SYMBOL = data_ID_exist[\"SYMBOL\"]\n",
    "SYMBOL_bool = SYMBOL.duplicated()\n",
    "SYMBOL_duplicated = SYMBOL_bool[SYMBOL_bool == True]"
   ]
  },
  {
   "cell_type": "code",
   "execution_count": 11,
   "metadata": {},
   "outputs": [],
   "source": [
    "#重複プローブを持つ転写物名リストを取得。\n",
    "duplicated_transcript = list(SYMBOL[SYMBOL_duplicated.index].unique())"
   ]
  },
  {
   "cell_type": "code",
   "execution_count": null,
   "metadata": {},
   "outputs": [
    {
     "name": "stdout",
     "output_type": "stream",
     "text": [
      "/lustre7/home/lustre4/ryoyokosaka/python/data/GSE41080/GSM1008364_93219_7326_probe.txt\n",
      "/lustre7/home/lustre4/ryoyokosaka/python/data/GSE41080/GSM1008385_93252_7342_probe.txt\n"
     ]
    }
   ],
   "source": [
    "GSE41080_expression_df = pd.DataFrame()\n",
    "for txt_file in path:\n",
    "    print(txt_file)\n",
    "    data = pd.read_table(txt_file,index_col=\"PROBE_ID\")\n",
    "    signal_name = re.findall('\\w\\w\\w\\w\\w\\w\\w\\w\\w\\w_\\w.AVG_Signal',str(data.columns))[0]\n",
    "    data = data.rename(columns = {signal_name:'Signal'})\n",
    "    data = pd.concat([data,SYMBOL],axis = 1)\n",
    "    #ファイルパスからサンプルめい(GSM...を取得する)\n",
    "    pattern = 'GSM\\w\\w\\w\\w\\w\\w\\w'\n",
    "    sample_name = re.findall(pattern,txt_file)\n",
    "\n",
    "\n",
    "    #重複プローブの平均値を計算し新しいデータフレームに格納\n",
    "    #新しいデータフレームを用意\n",
    "    _expression_df = pd.DataFrame()\n",
    "    list_read_SYMBOL = []\n",
    "\n",
    "    for symbol in list(data['SYMBOL']):\n",
    "        #もしプローブidが重複プローブであるならば平均値を計算する\n",
    "        if symbol in duplicated_transcript:\n",
    "            mean = data.loc[data.SYMBOL == symbol,'Signal'].mean()\n",
    "            low = pd.DataFrame(mean,index=[symbol],columns=['Signal'])\n",
    "            _expression_df = pd.concat([_expression_df,low])\n",
    "        #もしプローブidが重複していないのであればシグナルはそのまま\n",
    "        elif symbol not in list_read_SYMBOL:\n",
    "            #今参照しているインデックス名をindに入れる\n",
    "            ind = list(data[data[\"SYMBOL\"] == symbol].index)\n",
    "            low = pd.DataFrame(float(data['Signal'].loc[ind]),index=[symbol],columns=['Signal'])\n",
    "            _expression_df = pd.concat([_expression_df,low])\n",
    "        #すでに重複シンボルに対して平均値を計算していた場合そのループを飛ばす。\n",
    "        elif symbol in list_read_SYMBOL:\n",
    "            continue\n",
    "\n",
    "\n",
    "\n",
    "        #読んだシンボルリストに追加\n",
    "        list_read_SYMBOL.append(symbol)\n",
    "    _expression_df = _expression_df.rename(columns = {\"Signal\":\"sample_name\"})\n",
    "    GSE41080_expression_df = pd.concat([GSE41080_expression_df,_expression_df],axis=1)"
   ]
  },
  {
   "cell_type": "code",
   "execution_count": 7,
   "metadata": {},
   "outputs": [
    {
     "data": {
      "text/html": [
       "<div>\n",
       "<style scoped>\n",
       "    .dataframe tbody tr th:only-of-type {\n",
       "        vertical-align: middle;\n",
       "    }\n",
       "\n",
       "    .dataframe tbody tr th {\n",
       "        vertical-align: top;\n",
       "    }\n",
       "\n",
       "    .dataframe thead th {\n",
       "        text-align: right;\n",
       "    }\n",
       "</style>\n",
       "<table border=\"1\" class=\"dataframe\">\n",
       "  <thead>\n",
       "    <tr style=\"text-align: right;\">\n",
       "      <th></th>\n",
       "    </tr>\n",
       "  </thead>\n",
       "  <tbody>\n",
       "  </tbody>\n",
       "</table>\n",
       "</div>"
      ],
      "text/plain": [
       "Empty DataFrame\n",
       "Columns: []\n",
       "Index: []"
      ]
     },
     "execution_count": 7,
     "metadata": {},
     "output_type": "execute_result"
    }
   ],
   "source": [
    "GSE41080_expression_df"
   ]
  },
  {
   "cell_type": "code",
   "execution_count": null,
   "metadata": {},
   "outputs": [],
   "source": [
    "GSE41080_expression_df.to_csv(\"/lustre7/home/lustre4/ryoyokosaka/python/data/GSE41080/GSE41080_expression.csv\")"
   ]
  }
 ],
 "metadata": {
  "kernelspec": {
   "display_name": "Python 3",
   "language": "python",
   "name": "python3"
  },
  "language_info": {
   "codemirror_mode": {
    "name": "ipython",
    "version": 3
   },
   "file_extension": ".py",
   "mimetype": "text/x-python",
   "name": "python",
   "nbconvert_exporter": "python",
   "pygments_lexer": "ipython3",
   "version": "3.6.0"
  }
 },
 "nbformat": 4,
 "nbformat_minor": 2
}
